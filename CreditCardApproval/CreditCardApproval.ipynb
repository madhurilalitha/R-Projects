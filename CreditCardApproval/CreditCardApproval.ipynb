{
 "cells": [
  {
   "cell_type": "markdown",
   "metadata": {
    "collapsed": true
   },
   "source": [
    "In this project, I have taken creditcard dataset which has samples labelled as \"+\" and \"-\". I have applied Logistic Regression and Decision Trees as classifier models to classify customer samples as \"accepted\" or \"denied\""
   ]
  },
  {
   "cell_type": "markdown",
   "metadata": {},
   "source": [
    "#### Exploratory Data Analysis"
   ]
  },
  {
   "cell_type": "code",
   "execution_count": 1,
   "metadata": {
    "collapsed": true
   },
   "outputs": [],
   "source": [
    "#Loading the comma seperated file which has no headers\n",
    "data <- read.csv(\"creditapproval.txt\", header = FALSE)"
   ]
  },
  {
   "cell_type": "code",
   "execution_count": 61,
   "metadata": {},
   "outputs": [
    {
     "data": {
      "text/html": [
       "<table>\n",
       "<thead><tr><th scope=col>V1</th><th scope=col>V2</th><th scope=col>V3</th><th scope=col>V4</th><th scope=col>V5</th><th scope=col>V6</th><th scope=col>V7</th><th scope=col>V8</th><th scope=col>V9</th><th scope=col>V10</th><th scope=col>V11</th><th scope=col>V12</th><th scope=col>V13</th><th scope=col>V14</th><th scope=col>V15</th><th scope=col>V16</th></tr></thead>\n",
       "<tbody>\n",
       "\t<tr><td>b    </td><td>30.83</td><td>0.000</td><td>u    </td><td>g    </td><td>w    </td><td>v    </td><td>1.25 </td><td>t    </td><td>t    </td><td>1    </td><td>f    </td><td>g    </td><td>00202</td><td>  0  </td><td>+    </td></tr>\n",
       "\t<tr><td>a    </td><td>58.67</td><td>4.460</td><td>u    </td><td>g    </td><td>q    </td><td>h    </td><td>3.04 </td><td>t    </td><td>t    </td><td>6    </td><td>f    </td><td>g    </td><td>00043</td><td>560  </td><td>+    </td></tr>\n",
       "\t<tr><td>a    </td><td>24.50</td><td>0.500</td><td>u    </td><td>g    </td><td>q    </td><td>h    </td><td>1.50 </td><td>t    </td><td>f    </td><td>0    </td><td>f    </td><td>g    </td><td>00280</td><td>824  </td><td>+    </td></tr>\n",
       "\t<tr><td>b    </td><td>27.83</td><td>1.540</td><td>u    </td><td>g    </td><td>w    </td><td>v    </td><td>3.75 </td><td>t    </td><td>t    </td><td>5    </td><td>t    </td><td>g    </td><td>00100</td><td>  3  </td><td>+    </td></tr>\n",
       "\t<tr><td>b    </td><td>20.17</td><td>5.625</td><td>u    </td><td>g    </td><td>w    </td><td>v    </td><td>1.71 </td><td>t    </td><td>f    </td><td>0    </td><td>f    </td><td>s    </td><td>00120</td><td>  0  </td><td>+    </td></tr>\n",
       "\t<tr><td>b    </td><td>32.08</td><td>4.000</td><td>u    </td><td>g    </td><td>m    </td><td>v    </td><td>2.50 </td><td>t    </td><td>f    </td><td>0    </td><td>t    </td><td>g    </td><td>00360</td><td>  0  </td><td>+    </td></tr>\n",
       "</tbody>\n",
       "</table>\n"
      ],
      "text/latex": [
       "\\begin{tabular}{r|llllllllllllllll}\n",
       " V1 & V2 & V3 & V4 & V5 & V6 & V7 & V8 & V9 & V10 & V11 & V12 & V13 & V14 & V15 & V16\\\\\n",
       "\\hline\n",
       "\t b     & 30.83 & 0.000 & u     & g     & w     & v     & 1.25  & t     & t     & 1     & f     & g     & 00202 &   0   & +    \\\\\n",
       "\t a     & 58.67 & 4.460 & u     & g     & q     & h     & 3.04  & t     & t     & 6     & f     & g     & 00043 & 560   & +    \\\\\n",
       "\t a     & 24.50 & 0.500 & u     & g     & q     & h     & 1.50  & t     & f     & 0     & f     & g     & 00280 & 824   & +    \\\\\n",
       "\t b     & 27.83 & 1.540 & u     & g     & w     & v     & 3.75  & t     & t     & 5     & t     & g     & 00100 &   3   & +    \\\\\n",
       "\t b     & 20.17 & 5.625 & u     & g     & w     & v     & 1.71  & t     & f     & 0     & f     & s     & 00120 &   0   & +    \\\\\n",
       "\t b     & 32.08 & 4.000 & u     & g     & m     & v     & 2.50  & t     & f     & 0     & t     & g     & 00360 &   0   & +    \\\\\n",
       "\\end{tabular}\n"
      ],
      "text/markdown": [
       "\n",
       "V1 | V2 | V3 | V4 | V5 | V6 | V7 | V8 | V9 | V10 | V11 | V12 | V13 | V14 | V15 | V16 | \n",
       "|---|---|---|---|---|---|\n",
       "| b     | 30.83 | 0.000 | u     | g     | w     | v     | 1.25  | t     | t     | 1     | f     | g     | 00202 |   0   | +     | \n",
       "| a     | 58.67 | 4.460 | u     | g     | q     | h     | 3.04  | t     | t     | 6     | f     | g     | 00043 | 560   | +     | \n",
       "| a     | 24.50 | 0.500 | u     | g     | q     | h     | 1.50  | t     | f     | 0     | f     | g     | 00280 | 824   | +     | \n",
       "| b     | 27.83 | 1.540 | u     | g     | w     | v     | 3.75  | t     | t     | 5     | t     | g     | 00100 |   3   | +     | \n",
       "| b     | 20.17 | 5.625 | u     | g     | w     | v     | 1.71  | t     | f     | 0     | f     | s     | 00120 |   0   | +     | \n",
       "| b     | 32.08 | 4.000 | u     | g     | m     | v     | 2.50  | t     | f     | 0     | t     | g     | 00360 |   0   | +     | \n",
       "\n",
       "\n"
      ],
      "text/plain": [
       "  V1 V2    V3    V4 V5 V6 V7 V8   V9 V10 V11 V12 V13 V14   V15 V16\n",
       "1 b  30.83 0.000 u  g  w  v  1.25 t  t   1   f   g   00202   0 +  \n",
       "2 a  58.67 4.460 u  g  q  h  3.04 t  t   6   f   g   00043 560 +  \n",
       "3 a  24.50 0.500 u  g  q  h  1.50 t  f   0   f   g   00280 824 +  \n",
       "4 b  27.83 1.540 u  g  w  v  3.75 t  t   5   t   g   00100   3 +  \n",
       "5 b  20.17 5.625 u  g  w  v  1.71 t  f   0   f   s   00120   0 +  \n",
       "6 b  32.08 4.000 u  g  m  v  2.50 t  f   0   t   g   00360   0 +  "
      ]
     },
     "metadata": {},
     "output_type": "display_data"
    }
   ],
   "source": [
    "# Visualizing the first few records of the dataset\n",
    "head(data)"
   ]
  },
  {
   "cell_type": "code",
   "execution_count": 2,
   "metadata": {
    "collapsed": true
   },
   "outputs": [],
   "source": [
    "#providing the names to the columns\n",
    "names(data)<-c(\"Male\",\"Age\",\"Debt\",\"Married\",\"BankCustomer\",\"EducationLevel\",\"Ethnicity\",\"YearsEmployed\",\"PriorDefault\",\"Employed\",\"CreditScore\",\"DriversLicense\",\"Citizen\",\"ZipCode\",\"Income\",\"Approved\")"
   ]
  },
  {
   "cell_type": "code",
   "execution_count": 63,
   "metadata": {},
   "outputs": [
    {
     "name": "stdout",
     "output_type": "stream",
     "text": [
      "'data.frame':\t690 obs. of  16 variables:\n",
      " $ Male          : Factor w/ 3 levels \"?\",\"a\",\"b\": 3 2 2 3 3 3 3 2 3 3 ...\n",
      " $ Age           : Factor w/ 350 levels \"?\",\"13.75\",\"15.17\",..: 158 330 91 127 45 170 181 76 312 257 ...\n",
      " $ Debt          : num  0 4.46 0.5 1.54 5.62 ...\n",
      " $ Married       : Factor w/ 4 levels \"?\",\"l\",\"u\",\"y\": 3 3 3 3 3 3 3 3 4 4 ...\n",
      " $ BankCustomer  : Factor w/ 4 levels \"?\",\"g\",\"gg\",\"p\": 2 2 2 2 2 2 2 2 4 4 ...\n",
      " $ EducationLevel: Factor w/ 15 levels \"?\",\"aa\",\"c\",\"cc\",..: 14 12 12 14 14 11 13 4 10 14 ...\n",
      " $ Ethnicity     : Factor w/ 10 levels \"?\",\"bb\",\"dd\",..: 9 5 5 9 9 9 5 9 5 9 ...\n",
      " $ YearsEmployed : num  1.25 3.04 1.5 3.75 1.71 ...\n",
      " $ PriorDefault  : Factor w/ 2 levels \"f\",\"t\": 2 2 2 2 2 2 2 2 2 2 ...\n",
      " $ Employed      : Factor w/ 2 levels \"f\",\"t\": 2 2 1 2 1 1 1 1 1 1 ...\n",
      " $ CreditScore   : int  1 6 0 5 0 0 0 0 0 0 ...\n",
      " $ DriversLicense: Factor w/ 2 levels \"f\",\"t\": 1 1 1 2 1 2 2 1 1 2 ...\n",
      " $ Citizen       : Factor w/ 3 levels \"g\",\"p\",\"s\": 1 1 1 1 3 1 1 1 1 1 ...\n",
      " $ ZipCode       : Factor w/ 171 levels \"?\",\"00000\",\"00017\",..: 70 13 98 33 39 117 56 25 64 17 ...\n",
      " $ Income        : int  0 560 824 3 0 0 31285 1349 314 1442 ...\n",
      " $ Approved      : Factor w/ 2 levels \"-\",\"+\": 2 2 2 2 2 2 2 2 2 2 ...\n"
     ]
    }
   ],
   "source": [
    "# To understand each variable in data\n",
    "str(data)"
   ]
  },
  {
   "cell_type": "markdown",
   "metadata": {},
   "source": [
    "From the above few commands, we can understand that the variable \"Approved\" is our target variable which we have to predict for unseen samples\n",
    "    "
   ]
  },
  {
   "cell_type": "markdown",
   "metadata": {},
   "source": [
    "However, we can see that the values of Approved are \"+\" and \"-\". These special characters are not eligible for the model. Therefore, transoforming them in to binary values"
   ]
  },
  {
   "cell_type": "code",
   "execution_count": 3,
   "metadata": {},
   "outputs": [
    {
     "name": "stdout",
     "output_type": "stream",
     "text": [
      "'data.frame':\t690 obs. of  16 variables:\n",
      " $ Male          : num  0 1 1 0 0 0 0 1 0 0 ...\n",
      " $ Age           : Factor w/ 350 levels \"?\",\"13.75\",\"15.17\",..: 158 330 91 127 45 170 181 76 312 257 ...\n",
      " $ Debt          : num  0 4.46 0.5 1.54 5.62 ...\n",
      " $ Married       : Factor w/ 4 levels \"?\",\"l\",\"u\",\"y\": 3 3 3 3 3 3 3 3 4 4 ...\n",
      " $ BankCustomer  : Factor w/ 4 levels \"?\",\"g\",\"gg\",\"p\": 2 2 2 2 2 2 2 2 4 4 ...\n",
      " $ EducationLevel: Factor w/ 15 levels \"?\",\"aa\",\"c\",\"cc\",..: 14 12 12 14 14 11 13 4 10 14 ...\n",
      " $ Ethnicity     : Factor w/ 10 levels \"?\",\"bb\",\"dd\",..: 9 5 5 9 9 9 5 9 5 9 ...\n",
      " $ YearsEmployed : num  1.25 3.04 1.5 3.75 1.71 ...\n",
      " $ PriorDefault  : num  1 1 1 1 1 1 1 1 1 1 ...\n",
      " $ Employed      : num  1 1 0 1 0 0 0 0 0 0 ...\n",
      " $ CreditScore   : int  1 6 0 5 0 0 0 0 0 0 ...\n",
      " $ DriversLicense: Factor w/ 2 levels \"f\",\"t\": 1 1 1 2 1 2 2 1 1 2 ...\n",
      " $ Citizen       : Factor w/ 3 levels \"g\",\"p\",\"s\": 1 1 1 1 3 1 1 1 1 1 ...\n",
      " $ ZipCode       : Factor w/ 171 levels \"?\",\"00000\",\"00017\",..: 70 13 98 33 39 117 56 25 64 17 ...\n",
      " $ Income        : int  0 560 824 3 0 0 31285 1349 314 1442 ...\n",
      " $ Approved      : Factor w/ 2 levels \"-\",\"+\": 2 2 2 2 2 2 2 2 2 2 ...\n"
     ]
    }
   ],
   "source": [
    "# Converting other categorial variables to binary values\n",
    "data$Male<- ifelse(data$Male==\"a\",1,0)\n",
    "data$Employed<- ifelse(data$Employed==\"t\",1,0)\n",
    "data$PriorDefault<-ifelse(data$PriorDefault==\"t\",1,0)\n",
    "\n",
    "str(data)"
   ]
  },
  {
   "cell_type": "code",
   "execution_count": 4,
   "metadata": {
    "collapsed": true
   },
   "outputs": [],
   "source": [
    "# Convert credit granted to 1 or 0\n",
    "data$Approved<-ifelse(data$Approved==\"+\",1,0)\n",
    "data$Approved<-factor(data$Approved)\n",
    "\n"
   ]
  },
  {
   "cell_type": "markdown",
   "metadata": {},
   "source": [
    "Handling Missing Data"
   ]
  },
  {
   "cell_type": "code",
   "execution_count": 5,
   "metadata": {
    "collapsed": true
   },
   "outputs": [],
   "source": [
    "#In the dataset, we can see above that the missing values are logged as special character \"?\", replacing it by NA\n",
    "data[data==\"?\"]<-NA"
   ]
  },
  {
   "cell_type": "code",
   "execution_count": 6,
   "metadata": {},
   "outputs": [
    {
     "data": {
      "text/html": [
       "<table>\n",
       "<thead><tr><th scope=col>Male</th><th scope=col>Age</th><th scope=col>Debt</th><th scope=col>Married</th><th scope=col>BankCustomer</th><th scope=col>EducationLevel</th><th scope=col>Ethnicity</th><th scope=col>YearsEmployed</th><th scope=col>PriorDefault</th><th scope=col>Employed</th><th scope=col>CreditScore</th><th scope=col>DriversLicense</th><th scope=col>Citizen</th><th scope=col>ZipCode</th><th scope=col>Income</th><th scope=col>Approved</th></tr></thead>\n",
       "<tbody>\n",
       "\t<tr><td>0    </td><td>30.83</td><td>0.000</td><td>u    </td><td>g    </td><td>w    </td><td>v    </td><td>1.25 </td><td>1    </td><td>1    </td><td>1    </td><td>f    </td><td>g    </td><td>00202</td><td>  0  </td><td>1    </td></tr>\n",
       "\t<tr><td>1    </td><td>58.67</td><td>4.460</td><td>u    </td><td>g    </td><td>q    </td><td>h    </td><td>3.04 </td><td>1    </td><td>1    </td><td>6    </td><td>f    </td><td>g    </td><td>00043</td><td>560  </td><td>1    </td></tr>\n",
       "\t<tr><td>1    </td><td>24.50</td><td>0.500</td><td>u    </td><td>g    </td><td>q    </td><td>h    </td><td>1.50 </td><td>1    </td><td>0    </td><td>0    </td><td>f    </td><td>g    </td><td>00280</td><td>824  </td><td>1    </td></tr>\n",
       "\t<tr><td>0    </td><td>27.83</td><td>1.540</td><td>u    </td><td>g    </td><td>w    </td><td>v    </td><td>3.75 </td><td>1    </td><td>1    </td><td>5    </td><td>t    </td><td>g    </td><td>00100</td><td>  3  </td><td>1    </td></tr>\n",
       "\t<tr><td>0    </td><td>20.17</td><td>5.625</td><td>u    </td><td>g    </td><td>w    </td><td>v    </td><td>1.71 </td><td>1    </td><td>0    </td><td>0    </td><td>f    </td><td>s    </td><td>00120</td><td>  0  </td><td>1    </td></tr>\n",
       "\t<tr><td>0    </td><td>32.08</td><td>4.000</td><td>u    </td><td>g    </td><td>m    </td><td>v    </td><td>2.50 </td><td>1    </td><td>0    </td><td>0    </td><td>t    </td><td>g    </td><td>00360</td><td>  0  </td><td>1    </td></tr>\n",
       "</tbody>\n",
       "</table>\n"
      ],
      "text/latex": [
       "\\begin{tabular}{r|llllllllllllllll}\n",
       " Male & Age & Debt & Married & BankCustomer & EducationLevel & Ethnicity & YearsEmployed & PriorDefault & Employed & CreditScore & DriversLicense & Citizen & ZipCode & Income & Approved\\\\\n",
       "\\hline\n",
       "\t 0     & 30.83 & 0.000 & u     & g     & w     & v     & 1.25  & 1     & 1     & 1     & f     & g     & 00202 &   0   & 1    \\\\\n",
       "\t 1     & 58.67 & 4.460 & u     & g     & q     & h     & 3.04  & 1     & 1     & 6     & f     & g     & 00043 & 560   & 1    \\\\\n",
       "\t 1     & 24.50 & 0.500 & u     & g     & q     & h     & 1.50  & 1     & 0     & 0     & f     & g     & 00280 & 824   & 1    \\\\\n",
       "\t 0     & 27.83 & 1.540 & u     & g     & w     & v     & 3.75  & 1     & 1     & 5     & t     & g     & 00100 &   3   & 1    \\\\\n",
       "\t 0     & 20.17 & 5.625 & u     & g     & w     & v     & 1.71  & 1     & 0     & 0     & f     & s     & 00120 &   0   & 1    \\\\\n",
       "\t 0     & 32.08 & 4.000 & u     & g     & m     & v     & 2.50  & 1     & 0     & 0     & t     & g     & 00360 &   0   & 1    \\\\\n",
       "\\end{tabular}\n"
      ],
      "text/markdown": [
       "\n",
       "Male | Age | Debt | Married | BankCustomer | EducationLevel | Ethnicity | YearsEmployed | PriorDefault | Employed | CreditScore | DriversLicense | Citizen | ZipCode | Income | Approved | \n",
       "|---|---|---|---|---|---|\n",
       "| 0     | 30.83 | 0.000 | u     | g     | w     | v     | 1.25  | 1     | 1     | 1     | f     | g     | 00202 |   0   | 1     | \n",
       "| 1     | 58.67 | 4.460 | u     | g     | q     | h     | 3.04  | 1     | 1     | 6     | f     | g     | 00043 | 560   | 1     | \n",
       "| 1     | 24.50 | 0.500 | u     | g     | q     | h     | 1.50  | 1     | 0     | 0     | f     | g     | 00280 | 824   | 1     | \n",
       "| 0     | 27.83 | 1.540 | u     | g     | w     | v     | 3.75  | 1     | 1     | 5     | t     | g     | 00100 |   3   | 1     | \n",
       "| 0     | 20.17 | 5.625 | u     | g     | w     | v     | 1.71  | 1     | 0     | 0     | f     | s     | 00120 |   0   | 1     | \n",
       "| 0     | 32.08 | 4.000 | u     | g     | m     | v     | 2.50  | 1     | 0     | 0     | t     | g     | 00360 |   0   | 1     | \n",
       "\n",
       "\n"
      ],
      "text/plain": [
       "  Male Age   Debt  Married BankCustomer EducationLevel Ethnicity YearsEmployed\n",
       "1 0    30.83 0.000 u       g            w              v         1.25         \n",
       "2 1    58.67 4.460 u       g            q              h         3.04         \n",
       "3 1    24.50 0.500 u       g            q              h         1.50         \n",
       "4 0    27.83 1.540 u       g            w              v         3.75         \n",
       "5 0    20.17 5.625 u       g            w              v         1.71         \n",
       "6 0    32.08 4.000 u       g            m              v         2.50         \n",
       "  PriorDefault Employed CreditScore DriversLicense Citizen ZipCode Income\n",
       "1 1            1        1           f              g       00202     0   \n",
       "2 1            1        6           f              g       00043   560   \n",
       "3 1            0        0           f              g       00280   824   \n",
       "4 1            1        5           t              g       00100     3   \n",
       "5 1            0        0           f              s       00120     0   \n",
       "6 1            0        0           t              g       00360     0   \n",
       "  Approved\n",
       "1 1       \n",
       "2 1       \n",
       "3 1       \n",
       "4 1       \n",
       "5 1       \n",
       "6 1       "
      ]
     },
     "metadata": {},
     "output_type": "display_data"
    }
   ],
   "source": [
    "head(data)"
   ]
  },
  {
   "cell_type": "code",
   "execution_count": 7,
   "metadata": {},
   "outputs": [
    {
     "data": {
      "text/plain": [
       "      Age              Debt        YearsEmployed     CreditScore  \n",
       " Min.   :  2.00   Min.   : 0.000   Min.   : 0.000   Min.   : 0.0  \n",
       " 1st Qu.: 72.25   1st Qu.: 1.000   1st Qu.: 0.165   1st Qu.: 0.0  \n",
       " Median :133.50   Median : 2.750   Median : 1.000   Median : 0.0  \n",
       " Mean   :149.02   Mean   : 4.759   Mean   : 2.223   Mean   : 2.4  \n",
       " 3rd Qu.:221.75   3rd Qu.: 7.207   3rd Qu.: 2.625   3rd Qu.: 3.0  \n",
       " Max.   :350.00   Max.   :28.000   Max.   :28.500   Max.   :67.0  \n",
       " NA's   :12                                                       \n",
       "     Income        \n",
       " Min.   :     0.0  \n",
       " 1st Qu.:     0.0  \n",
       " Median :     5.0  \n",
       " Mean   :  1017.4  \n",
       " 3rd Qu.:   395.5  \n",
       " Max.   :100000.0  \n",
       "                   "
      ]
     },
     "metadata": {},
     "output_type": "display_data"
    },
    {
     "data": {
      "text/html": [
       "93.3046"
      ],
      "text/latex": [
       "93.3046"
      ],
      "text/markdown": [
       "93.3046"
      ],
      "text/plain": [
       "[1] 93.3046"
      ]
     },
     "metadata": {},
     "output_type": "display_data"
    }
   ],
   "source": [
    "# The below R commands are used to obtain the summary of the numeric values in the dataset\n",
    "data$Age<-as.numeric(data$Age)\n",
    "Numeric<- data[,c(2:3,8,11,15)] # Filtering out numerical variables\n",
    "\n",
    "summary(Numeric)\n",
    "\n",
    "Mean.Age<- mean(Numeric$Age,na.rm=T)\n",
    "\n",
    "SD.Age<-round(sd(Numeric$Age, na.rm=T),4)\n",
    "SD.Age\n"
   ]
  },
  {
   "cell_type": "code",
   "execution_count": 67,
   "metadata": {},
   "outputs": [
    {
     "data": {
      "text/html": [
       "<table>\n",
       "<thead><tr><th></th><th scope=col>Age</th><th scope=col>Debt</th><th scope=col>YearsEmployed</th><th scope=col>CreditScore</th><th scope=col>Income</th></tr></thead>\n",
       "<tbody>\n",
       "\t<tr><th scope=row>Age</th><td>1.000</td><td>0.149</td><td>0.395</td><td>0.183</td><td>0.019</td></tr>\n",
       "\t<tr><th scope=row>Debt</th><td>0.149</td><td>1.000</td><td>0.301</td><td>0.272</td><td>0.122</td></tr>\n",
       "\t<tr><th scope=row>YearsEmployed</th><td>0.395</td><td>0.301</td><td>1.000</td><td>0.327</td><td>0.053</td></tr>\n",
       "\t<tr><th scope=row>CreditScore</th><td>0.183</td><td>0.272</td><td>0.327</td><td>1.000</td><td>0.063</td></tr>\n",
       "\t<tr><th scope=row>Income</th><td>0.019</td><td>0.122</td><td>0.053</td><td>0.063</td><td>1.000</td></tr>\n",
       "</tbody>\n",
       "</table>\n"
      ],
      "text/latex": [
       "\\begin{tabular}{r|lllll}\n",
       "  & Age & Debt & YearsEmployed & CreditScore & Income\\\\\n",
       "\\hline\n",
       "\tAge & 1.000 & 0.149 & 0.395 & 0.183 & 0.019\\\\\n",
       "\tDebt & 0.149 & 1.000 & 0.301 & 0.272 & 0.122\\\\\n",
       "\tYearsEmployed & 0.395 & 0.301 & 1.000 & 0.327 & 0.053\\\\\n",
       "\tCreditScore & 0.183 & 0.272 & 0.327 & 1.000 & 0.063\\\\\n",
       "\tIncome & 0.019 & 0.122 & 0.053 & 0.063 & 1.000\\\\\n",
       "\\end{tabular}\n"
      ],
      "text/markdown": [
       "\n",
       "| <!--/--> | Age | Debt | YearsEmployed | CreditScore | Income | \n",
       "|---|---|---|---|---|\n",
       "| Age | 1.000 | 0.149 | 0.395 | 0.183 | 0.019 | \n",
       "| Debt | 0.149 | 1.000 | 0.301 | 0.272 | 0.122 | \n",
       "| YearsEmployed | 0.395 | 0.301 | 1.000 | 0.327 | 0.053 | \n",
       "| CreditScore | 0.183 | 0.272 | 0.327 | 1.000 | 0.063 | \n",
       "| Income | 0.019 | 0.122 | 0.053 | 0.063 | 1.000 | \n",
       "\n",
       "\n"
      ],
      "text/plain": [
       "              Age   Debt  YearsEmployed CreditScore Income\n",
       "Age           1.000 0.149 0.395         0.183       0.019 \n",
       "Debt          0.149 1.000 0.301         0.272       0.122 \n",
       "YearsEmployed 0.395 0.301 1.000         0.327       0.053 \n",
       "CreditScore   0.183 0.272 0.327         1.000       0.063 \n",
       "Income        0.019 0.122 0.053         0.063       1.000 "
      ]
     },
     "metadata": {},
     "output_type": "display_data"
    }
   ],
   "source": [
    "round(cor(Numeric,use=\"complete.obs\"),3)"
   ]
  },
  {
   "cell_type": "code",
   "execution_count": 68,
   "metadata": {
    "collapsed": true
   },
   "outputs": [],
   "source": [
    "AgeMdl<-lm(Age~YearsEmployed, data=data,na.action=na.exclude)\n",
    "Missing<-which(is.na(data$Age))\n",
    "data$Age[Missing]<- predict(AgeMdl,newdata=data[Missing,])"
   ]
  },
  {
   "cell_type": "code",
   "execution_count": 69,
   "metadata": {},
   "outputs": [
    {
     "data": {
      "text/html": [
       "<dl class=dl-horizontal>\n",
       "\t<dt>(Intercept)</dt>\n",
       "\t\t<dd>124.693475933033</dd>\n",
       "\t<dt>YearsEmployed</dt>\n",
       "\t\t<dd>11.0096259767489</dd>\n",
       "</dl>\n"
      ],
      "text/latex": [
       "\\begin{description*}\n",
       "\\item[(Intercept)] 124.693475933033\n",
       "\\item[YearsEmployed] 11.0096259767489\n",
       "\\end{description*}\n"
      ],
      "text/markdown": [
       "(Intercept)\n",
       ":   124.693475933033YearsEmployed\n",
       ":   11.0096259767489\n",
       "\n"
      ],
      "text/plain": [
       "  (Intercept) YearsEmployed \n",
       "    124.69348      11.00963 "
      ]
     },
     "metadata": {},
     "output_type": "display_data"
    }
   ],
   "source": [
    "AgeMdl$coefficients"
   ]
  },
  {
   "cell_type": "code",
   "execution_count": 70,
   "metadata": {},
   "outputs": [
    {
     "data": {
      "image/png": "[encoded data removed]",
      "text/plain": [
       "Plot with title “Distribution of Values Before and After Normalization”"
      ]
     },
     "metadata": {},
     "output_type": "display_data"
    }
   ],
   "source": [
    "#Convert to z score\n",
    "data$AgeNorm<- (data$Age-mean(data$Age, na.rm=T))/SD.Age\n",
    "rm(SD.Age, Mean.Age)\n",
    "\n",
    "# View the distribution\n",
    "par(mfrow=c(1,2), oma=c(0,0,1,0))\n",
    "hist(data$Age,main=NULL,xlab=\"Age\",col=\"blue\")\n",
    "hist(data$AgeNorm,main=NULL,xlab=\"AgeNorm\",ylab=NULL,col=\"green\")\n",
    "title(\"Distribution of Values Before and After Normalization\",outer=T)\n"
   ]
  },
  {
   "cell_type": "code",
   "execution_count": 71,
   "metadata": {},
   "outputs": [
    {
     "data": {},
     "metadata": {},
     "output_type": "display_data"
    },
    {
     "data": {
      "image/png": "[encoded data removed]",
      "text/plain": [
       "plot without title"
      ]
     },
     "metadata": {},
     "output_type": "display_data"
    }
   ],
   "source": [
    "library(ggplot2)\n",
    "ggplot(data) + \n",
    "    aes(Approved,AgeNorm) + \n",
    "    geom_boxplot(outlier.colour=\"red\") +\n",
    "    theme_bw() +\n",
    "    coord_flip() +\n",
    "    labs(title=\"Distribution of AgeNorm by Credit Approval Status\")"
   ]
  },
  {
   "cell_type": "code",
   "execution_count": 72,
   "metadata": {
    "collapsed": true
   },
   "outputs": [],
   "source": [
    "Temp<- data.frame(scale(log(data[,c(3,8,11,15)]+1),center=T))\n",
    "names(Temp)<-c(\"DebtLog\",\"YearsEmployedLog\",\"CreditScoreLog\",\"IncomeLog\")\n",
    "data<-cbind(data,Temp)\n",
    "rm(Temp)"
   ]
  },
  {
   "cell_type": "code",
   "execution_count": 73,
   "metadata": {},
   "outputs": [
    {
     "data": {
      "text/html": [
       "<table>\n",
       "<thead><tr><th scope=col>Male</th><th scope=col>Age</th><th scope=col>Debt</th><th scope=col>Married</th><th scope=col>BankCustomer</th><th scope=col>EducationLevel</th><th scope=col>Ethnicity</th><th scope=col>YearsEmployed</th><th scope=col>PriorDefault</th><th scope=col>Employed</th><th scope=col>⋯</th><th scope=col>DriversLicense</th><th scope=col>Citizen</th><th scope=col>ZipCode</th><th scope=col>Income</th><th scope=col>Approved</th><th scope=col>AgeNorm</th><th scope=col>DebtLog</th><th scope=col>YearsEmployedLog</th><th scope=col>CreditScoreLog</th><th scope=col>IncomeLog</th></tr></thead>\n",
       "<tbody>\n",
       "\t<tr><td>0           </td><td>158         </td><td>0.000       </td><td>u           </td><td>g           </td><td>w           </td><td>v           </td><td>1.25        </td><td>1           </td><td>1           </td><td>⋯           </td><td>f           </td><td>g           </td><td>00202       </td><td>  0         </td><td>1           </td><td> 0.09461118 </td><td>-1.6678914  </td><td>-0.0332615  </td><td> 0.007182161</td><td>-0.9322207  </td></tr>\n",
       "\t<tr><td>1           </td><td>330         </td><td>4.460       </td><td>u           </td><td>g           </td><td>q           </td><td>h           </td><td>3.04        </td><td>1           </td><td>1           </td><td>⋯           </td><td>f           </td><td>g           </td><td>00043       </td><td>560         </td><td>1           </td><td> 1.93803583 </td><td> 0.3503638  </td><td> 0.7424841  </td><td> 1.356847959</td><td> 1.0529943  </td></tr>\n",
       "\t<tr><td>1           </td><td> 91         </td><td>0.500       </td><td>u           </td><td>g           </td><td>q           </td><td>h           </td><td>1.50        </td><td>1           </td><td>0           </td><td>⋯           </td><td>f           </td><td>g           </td><td>00280       </td><td>824         </td><td>1           </td><td>-0.62346703 </td><td>-1.1857961  </td><td> 0.1063779  </td><td>-0.739580847</td><td> 1.1739511  </td></tr>\n",
       "\t<tr><td>0           </td><td>127         </td><td>1.540       </td><td>u           </td><td>g           </td><td>w           </td><td>v           </td><td>3.75        </td><td>1           </td><td>1           </td><td>⋯           </td><td>t           </td><td>g           </td><td>00100       </td><td>  3         </td><td>1           </td><td>-0.23763397 </td><td>-0.5595546  </td><td> 0.9570579  </td><td> 1.190773525</td><td>-0.4974318  </td></tr>\n",
       "\t<tr><td>0           </td><td> 45         </td><td>5.625       </td><td>u           </td><td>g           </td><td>w           </td><td>v           </td><td>1.71        </td><td>1           </td><td>0           </td><td>⋯           </td><td>f           </td><td>s           </td><td>00120       </td><td>  0         </td><td>1           </td><td>-1.11647595 </td><td> 0.5803170  </td><td> 0.2132777  </td><td>-0.739580847</td><td>-0.9322207  </td></tr>\n",
       "\t<tr><td>0           </td><td>170         </td><td>4.000       </td><td>u           </td><td>g           </td><td>m           </td><td>v           </td><td>2.50        </td><td>1           </td><td>0           </td><td>⋯           </td><td>t           </td><td>g           </td><td>00360       </td><td>  0         </td><td>1           </td><td> 0.22322220 </td><td> 0.2457195  </td><td> 0.5523208  </td><td>-0.739580847</td><td>-0.9322207  </td></tr>\n",
       "</tbody>\n",
       "</table>\n"
      ],
      "text/latex": [
       "\\begin{tabular}{r|lllllllllllllllllllll}\n",
       " Male & Age & Debt & Married & BankCustomer & EducationLevel & Ethnicity & YearsEmployed & PriorDefault & Employed & ⋯ & DriversLicense & Citizen & ZipCode & Income & Approved & AgeNorm & DebtLog & YearsEmployedLog & CreditScoreLog & IncomeLog\\\\\n",
       "\\hline\n",
       "\t 0            & 158          & 0.000        & u            & g            & w            & v            & 1.25         & 1            & 1            & ⋯            & f            & g            & 00202        &   0          & 1            &  0.09461118  & -1.6678914   & -0.0332615   &  0.007182161 & -0.9322207  \\\\\n",
       "\t 1            & 330          & 4.460        & u            & g            & q            & h            & 3.04         & 1            & 1            & ⋯            & f            & g            & 00043        & 560          & 1            &  1.93803583  &  0.3503638   &  0.7424841   &  1.356847959 &  1.0529943  \\\\\n",
       "\t 1            &  91          & 0.500        & u            & g            & q            & h            & 1.50         & 1            & 0            & ⋯            & f            & g            & 00280        & 824          & 1            & -0.62346703  & -1.1857961   &  0.1063779   & -0.739580847 &  1.1739511  \\\\\n",
       "\t 0            & 127          & 1.540        & u            & g            & w            & v            & 3.75         & 1            & 1            & ⋯            & t            & g            & 00100        &   3          & 1            & -0.23763397  & -0.5595546   &  0.9570579   &  1.190773525 & -0.4974318  \\\\\n",
       "\t 0            &  45          & 5.625        & u            & g            & w            & v            & 1.71         & 1            & 0            & ⋯            & f            & s            & 00120        &   0          & 1            & -1.11647595  &  0.5803170   &  0.2132777   & -0.739580847 & -0.9322207  \\\\\n",
       "\t 0            & 170          & 4.000        & u            & g            & m            & v            & 2.50         & 1            & 0            & ⋯            & t            & g            & 00360        &   0          & 1            &  0.22322220  &  0.2457195   &  0.5523208   & -0.739580847 & -0.9322207  \\\\\n",
       "\\end{tabular}\n"
      ],
      "text/markdown": [
       "\n",
       "Male | Age | Debt | Married | BankCustomer | EducationLevel | Ethnicity | YearsEmployed | PriorDefault | Employed | ⋯ | DriversLicense | Citizen | ZipCode | Income | Approved | AgeNorm | DebtLog | YearsEmployedLog | CreditScoreLog | IncomeLog | \n",
       "|---|---|---|---|---|---|\n",
       "| 0            | 158          | 0.000        | u            | g            | w            | v            | 1.25         | 1            | 1            | ⋯            | f            | g            | 00202        |   0          | 1            |  0.09461118  | -1.6678914   | -0.0332615   |  0.007182161 | -0.9322207   | \n",
       "| 1            | 330          | 4.460        | u            | g            | q            | h            | 3.04         | 1            | 1            | ⋯            | f            | g            | 00043        | 560          | 1            |  1.93803583  |  0.3503638   |  0.7424841   |  1.356847959 |  1.0529943   | \n",
       "| 1            |  91          | 0.500        | u            | g            | q            | h            | 1.50         | 1            | 0            | ⋯            | f            | g            | 00280        | 824          | 1            | -0.62346703  | -1.1857961   |  0.1063779   | -0.739580847 |  1.1739511   | \n",
       "| 0            | 127          | 1.540        | u            | g            | w            | v            | 3.75         | 1            | 1            | ⋯            | t            | g            | 00100        |   3          | 1            | -0.23763397  | -0.5595546   |  0.9570579   |  1.190773525 | -0.4974318   | \n",
       "| 0            |  45          | 5.625        | u            | g            | w            | v            | 1.71         | 1            | 0            | ⋯            | f            | s            | 00120        |   0          | 1            | -1.11647595  |  0.5803170   |  0.2132777   | -0.739580847 | -0.9322207   | \n",
       "| 0            | 170          | 4.000        | u            | g            | m            | v            | 2.50         | 1            | 0            | ⋯            | t            | g            | 00360        |   0          | 1            |  0.22322220  |  0.2457195   |  0.5523208   | -0.739580847 | -0.9322207   | \n",
       "\n",
       "\n"
      ],
      "text/plain": [
       "  Male Age Debt  Married BankCustomer EducationLevel Ethnicity YearsEmployed\n",
       "1 0    158 0.000 u       g            w              v         1.25         \n",
       "2 1    330 4.460 u       g            q              h         3.04         \n",
       "3 1     91 0.500 u       g            q              h         1.50         \n",
       "4 0    127 1.540 u       g            w              v         3.75         \n",
       "5 0     45 5.625 u       g            w              v         1.71         \n",
       "6 0    170 4.000 u       g            m              v         2.50         \n",
       "  PriorDefault Employed ⋯ DriversLicense Citizen ZipCode Income Approved\n",
       "1 1            1        ⋯ f              g       00202     0    1       \n",
       "2 1            1        ⋯ f              g       00043   560    1       \n",
       "3 1            0        ⋯ f              g       00280   824    1       \n",
       "4 1            1        ⋯ t              g       00100     3    1       \n",
       "5 1            0        ⋯ f              s       00120     0    1       \n",
       "6 1            0        ⋯ t              g       00360     0    1       \n",
       "  AgeNorm     DebtLog    YearsEmployedLog CreditScoreLog IncomeLog \n",
       "1  0.09461118 -1.6678914 -0.0332615        0.007182161   -0.9322207\n",
       "2  1.93803583  0.3503638  0.7424841        1.356847959    1.0529943\n",
       "3 -0.62346703 -1.1857961  0.1063779       -0.739580847    1.1739511\n",
       "4 -0.23763397 -0.5595546  0.9570579        1.190773525   -0.4974318\n",
       "5 -1.11647595  0.5803170  0.2132777       -0.739580847   -0.9322207\n",
       "6  0.22322220  0.2457195  0.5523208       -0.739580847   -0.9322207"
      ]
     },
     "metadata": {},
     "output_type": "display_data"
    }
   ],
   "source": [
    "head(data)"
   ]
  },
  {
   "cell_type": "code",
   "execution_count": 74,
   "metadata": {},
   "outputs": [
    {
     "data": {
      "text/plain": [
       "\n",
       "  0   1 \n",
       "480 210 "
      ]
     },
     "metadata": {},
     "output_type": "display_data"
    }
   ],
   "source": [
    "table(data$Male,useNA=\"ifany\")\n",
    "\n",
    "incomplete<-!complete.cases(data)\n",
    "ToImpute<-data[incomplete,]\n",
    "#row.names(ToImpute)"
   ]
  },
  {
   "cell_type": "code",
   "execution_count": 75,
   "metadata": {
    "collapsed": true
   },
   "outputs": [],
   "source": [
    "data$Married  <-ifelse(is.na(data$Married),\"u\",data$Married)\n",
    "data$BankCustomer <-ifelse(is.na(data$BankCustomer),\"g\",data$BankCustomer)\n",
    "data$Ethnicity  <-ifelse(is.na(data$Ethnicity),\"v\",data$Ethnicity)\n",
    "data$EducationLevel<-ifelse(is.na(data$EducationLevel),\"c\",data$EducationLevel)\n",
    "data$ZipCode  <-ifelse(is.na(data$ZipCode),\"00000\",data$ZipCode)\n",
    "data$Male <-ifelse(is.na(data$Male),\"b\",data$Male)"
   ]
  },
  {
   "cell_type": "code",
   "execution_count": 76,
   "metadata": {
    "collapsed": true
   },
   "outputs": [],
   "source": [
    "# Convert categorical variables to factors\n",
    "data[,1:10]<- lapply(data[1:10],function(x) factor(x))\n",
    "\n",
    "data$Ethnicity<-relevel(data$Ethnicity,\"v\")"
   ]
  },
  {
   "cell_type": "code",
   "execution_count": 77,
   "metadata": {},
   "outputs": [
    {
     "data": {
      "text/plain": [
       "\n",
       "  0   1 \n",
       "287 230 "
      ]
     },
     "metadata": {},
     "output_type": "display_data"
    }
   ],
   "source": [
    "library(caTools)\n",
    "set.seed(1234)\n",
    "\n",
    "split<- sample.split(data$Approved, SplitRatio=0.75)\n",
    "Train<- subset(data,split==TRUE)\n",
    "Test <- subset(data, split==FALSE)\n",
    "\n",
    "table(Train$Approved)\n",
    "rm(split)\n"
   ]
  },
  {
   "cell_type": "code",
   "execution_count": 78,
   "metadata": {},
   "outputs": [
    {
     "data": {
      "text/html": [
       "<table>\n",
       "<thead><tr><th></th><th scope=col>Male</th><th scope=col>Age</th><th scope=col>Debt</th><th scope=col>Married</th><th scope=col>BankCustomer</th><th scope=col>EducationLevel</th><th scope=col>Ethnicity</th><th scope=col>YearsEmployed</th><th scope=col>PriorDefault</th><th scope=col>Employed</th><th scope=col>⋯</th><th scope=col>DriversLicense</th><th scope=col>Citizen</th><th scope=col>ZipCode</th><th scope=col>Income</th><th scope=col>Approved</th><th scope=col>AgeNorm</th><th scope=col>DebtLog</th><th scope=col>YearsEmployedLog</th><th scope=col>CreditScoreLog</th><th scope=col>IncomeLog</th></tr></thead>\n",
       "<tbody>\n",
       "\t<tr><th scope=row>1</th><td>0           </td><td>158         </td><td>0           </td><td>3           </td><td>2           </td><td>14          </td><td>9           </td><td>1.25        </td><td>1           </td><td>1           </td><td>⋯           </td><td>f           </td><td>g           </td><td>70          </td><td>    0       </td><td>1           </td><td> 0.09461118 </td><td>-1.6678914  </td><td>-0.0332615  </td><td> 0.007182161</td><td>-0.9322207  </td></tr>\n",
       "\t<tr><th scope=row>2</th><td>1           </td><td>330         </td><td>4.46        </td><td>3           </td><td>2           </td><td>12          </td><td>5           </td><td>3.04        </td><td>1           </td><td>1           </td><td>⋯           </td><td>f           </td><td>g           </td><td>13          </td><td>  560       </td><td>1           </td><td> 1.93803583 </td><td> 0.3503638  </td><td> 0.7424841  </td><td> 1.356847959</td><td> 1.0529943  </td></tr>\n",
       "\t<tr><th scope=row>3</th><td>1           </td><td>91          </td><td>0.5         </td><td>3           </td><td>2           </td><td>12          </td><td>5           </td><td>1.5         </td><td>1           </td><td>0           </td><td>⋯           </td><td>f           </td><td>g           </td><td>98          </td><td>  824       </td><td>1           </td><td>-0.62346703 </td><td>-1.1857961  </td><td> 0.1063779  </td><td>-0.739580847</td><td> 1.1739511  </td></tr>\n",
       "\t<tr><th scope=row>4</th><td>0           </td><td>127         </td><td>1.54        </td><td>3           </td><td>2           </td><td>14          </td><td>9           </td><td>3.75        </td><td>1           </td><td>1           </td><td>⋯           </td><td>t           </td><td>g           </td><td>33          </td><td>    3       </td><td>1           </td><td>-0.23763397 </td><td>-0.5595546  </td><td> 0.9570579  </td><td> 1.190773525</td><td>-0.4974318  </td></tr>\n",
       "\t<tr><th scope=row>6</th><td>0           </td><td>170         </td><td>4           </td><td>3           </td><td>2           </td><td>11          </td><td>9           </td><td>2.5         </td><td>1           </td><td>0           </td><td>⋯           </td><td>t           </td><td>g           </td><td>117         </td><td>    0       </td><td>1           </td><td> 0.22322220 </td><td> 0.2457195  </td><td> 0.5523208  </td><td>-0.739580847</td><td>-0.9322207  </td></tr>\n",
       "\t<tr><th scope=row>7</th><td>0           </td><td>181         </td><td>1.04        </td><td>3           </td><td>2           </td><td>13          </td><td>5           </td><td>6.5         </td><td>1           </td><td>0           </td><td>⋯           </td><td>t           </td><td>g           </td><td>56          </td><td>31285       </td><td>1           </td><td> 0.34111563 </td><td>-0.8201989  </td><td> 1.5624219  </td><td>-0.739580847</td><td> 2.3141804  </td></tr>\n",
       "</tbody>\n",
       "</table>\n"
      ],
      "text/latex": [
       "\\begin{tabular}{r|lllllllllllllllllllll}\n",
       "  & Male & Age & Debt & Married & BankCustomer & EducationLevel & Ethnicity & YearsEmployed & PriorDefault & Employed & ⋯ & DriversLicense & Citizen & ZipCode & Income & Approved & AgeNorm & DebtLog & YearsEmployedLog & CreditScoreLog & IncomeLog\\\\\n",
       "\\hline\n",
       "\t1 & 0            & 158          & 0            & 3            & 2            & 14           & 9            & 1.25         & 1            & 1            & ⋯            & f            & g            & 70           &     0        & 1            &  0.09461118  & -1.6678914   & -0.0332615   &  0.007182161 & -0.9322207  \\\\\n",
       "\t2 & 1            & 330          & 4.46         & 3            & 2            & 12           & 5            & 3.04         & 1            & 1            & ⋯            & f            & g            & 13           &   560        & 1            &  1.93803583  &  0.3503638   &  0.7424841   &  1.356847959 &  1.0529943  \\\\\n",
       "\t3 & 1            & 91           & 0.5          & 3            & 2            & 12           & 5            & 1.5          & 1            & 0            & ⋯            & f            & g            & 98           &   824        & 1            & -0.62346703  & -1.1857961   &  0.1063779   & -0.739580847 &  1.1739511  \\\\\n",
       "\t4 & 0            & 127          & 1.54         & 3            & 2            & 14           & 9            & 3.75         & 1            & 1            & ⋯            & t            & g            & 33           &     3        & 1            & -0.23763397  & -0.5595546   &  0.9570579   &  1.190773525 & -0.4974318  \\\\\n",
       "\t6 & 0            & 170          & 4            & 3            & 2            & 11           & 9            & 2.5          & 1            & 0            & ⋯            & t            & g            & 117          &     0        & 1            &  0.22322220  &  0.2457195   &  0.5523208   & -0.739580847 & -0.9322207  \\\\\n",
       "\t7 & 0            & 181          & 1.04         & 3            & 2            & 13           & 5            & 6.5          & 1            & 0            & ⋯            & t            & g            & 56           & 31285        & 1            &  0.34111563  & -0.8201989   &  1.5624219   & -0.739580847 &  2.3141804  \\\\\n",
       "\\end{tabular}\n"
      ],
      "text/markdown": [
       "\n",
       "| <!--/--> | Male | Age | Debt | Married | BankCustomer | EducationLevel | Ethnicity | YearsEmployed | PriorDefault | Employed | ⋯ | DriversLicense | Citizen | ZipCode | Income | Approved | AgeNorm | DebtLog | YearsEmployedLog | CreditScoreLog | IncomeLog | \n",
       "|---|---|---|---|---|---|\n",
       "| 1 | 0            | 158          | 0            | 3            | 2            | 14           | 9            | 1.25         | 1            | 1            | ⋯            | f            | g            | 70           |     0        | 1            |  0.09461118  | -1.6678914   | -0.0332615   |  0.007182161 | -0.9322207   | \n",
       "| 2 | 1            | 330          | 4.46         | 3            | 2            | 12           | 5            | 3.04         | 1            | 1            | ⋯            | f            | g            | 13           |   560        | 1            |  1.93803583  |  0.3503638   |  0.7424841   |  1.356847959 |  1.0529943   | \n",
       "| 3 | 1            | 91           | 0.5          | 3            | 2            | 12           | 5            | 1.5          | 1            | 0            | ⋯            | f            | g            | 98           |   824        | 1            | -0.62346703  | -1.1857961   |  0.1063779   | -0.739580847 |  1.1739511   | \n",
       "| 4 | 0            | 127          | 1.54         | 3            | 2            | 14           | 9            | 3.75         | 1            | 1            | ⋯            | t            | g            | 33           |     3        | 1            | -0.23763397  | -0.5595546   |  0.9570579   |  1.190773525 | -0.4974318   | \n",
       "| 6 | 0            | 170          | 4            | 3            | 2            | 11           | 9            | 2.5          | 1            | 0            | ⋯            | t            | g            | 117          |     0        | 1            |  0.22322220  |  0.2457195   |  0.5523208   | -0.739580847 | -0.9322207   | \n",
       "| 7 | 0            | 181          | 1.04         | 3            | 2            | 13           | 5            | 6.5          | 1            | 0            | ⋯            | t            | g            | 56           | 31285        | 1            |  0.34111563  | -0.8201989   |  1.5624219   | -0.739580847 |  2.3141804   | \n",
       "\n",
       "\n"
      ],
      "text/plain": [
       "  Male Age Debt Married BankCustomer EducationLevel Ethnicity YearsEmployed\n",
       "1 0    158 0    3       2            14             9         1.25         \n",
       "2 1    330 4.46 3       2            12             5         3.04         \n",
       "3 1    91  0.5  3       2            12             5         1.5          \n",
       "4 0    127 1.54 3       2            14             9         3.75         \n",
       "6 0    170 4    3       2            11             9         2.5          \n",
       "7 0    181 1.04 3       2            13             5         6.5          \n",
       "  PriorDefault Employed ⋯ DriversLicense Citizen ZipCode Income Approved\n",
       "1 1            1        ⋯ f              g       70          0  1       \n",
       "2 1            1        ⋯ f              g       13        560  1       \n",
       "3 1            0        ⋯ f              g       98        824  1       \n",
       "4 1            1        ⋯ t              g       33          3  1       \n",
       "6 1            0        ⋯ t              g       117         0  1       \n",
       "7 1            0        ⋯ t              g       56      31285  1       \n",
       "  AgeNorm     DebtLog    YearsEmployedLog CreditScoreLog IncomeLog \n",
       "1  0.09461118 -1.6678914 -0.0332615        0.007182161   -0.9322207\n",
       "2  1.93803583  0.3503638  0.7424841        1.356847959    1.0529943\n",
       "3 -0.62346703 -1.1857961  0.1063779       -0.739580847    1.1739511\n",
       "4 -0.23763397 -0.5595546  0.9570579        1.190773525   -0.4974318\n",
       "6  0.22322220  0.2457195  0.5523208       -0.739580847   -0.9322207\n",
       "7  0.34111563 -0.8201989  1.5624219       -0.739580847    2.3141804"
      ]
     },
     "metadata": {},
     "output_type": "display_data"
    }
   ],
   "source": [
    "head(Train)"
   ]
  },
  {
   "cell_type": "code",
   "execution_count": 79,
   "metadata": {},
   "outputs": [
    {
     "data": {
      "text/plain": [
       "\n",
       "Call:\n",
       "glm(formula = Approved ~ AgeNorm + DebtLog + YearsEmployedLog + \n",
       "    CreditScoreLog + IncomeLog, family = binomial, data = Train)\n",
       "\n",
       "Deviance Residuals: \n",
       "    Min       1Q   Median       3Q      Max  \n",
       "-2.4480  -0.7608  -0.4676   0.6884   2.2814  \n",
       "\n",
       "Coefficients:\n",
       "                 Estimate Std. Error z value Pr(>|z|)    \n",
       "(Intercept)      -0.20751    0.11173  -1.857 0.063290 .  \n",
       "AgeNorm          -0.01753    0.11936  -0.147 0.883263    \n",
       "DebtLog           0.17205    0.11229   1.532 0.125472    \n",
       "YearsEmployedLog  0.76862    0.12556   6.122 9.26e-10 ***\n",
       "CreditScoreLog    0.98071    0.13315   7.366 1.76e-13 ***\n",
       "IncomeLog         0.44726    0.11853   3.773 0.000161 ***\n",
       "---\n",
       "Signif. codes:  0 ‘***’ 0.001 ‘**’ 0.01 ‘*’ 0.05 ‘.’ 0.1 ‘ ’ 1\n",
       "\n",
       "(Dispersion parameter for binomial family taken to be 1)\n",
       "\n",
       "    Null deviance: 710.42  on 516  degrees of freedom\n",
       "Residual deviance: 501.22  on 511  degrees of freedom\n",
       "AIC: 513.22\n",
       "\n",
       "Number of Fisher Scoring iterations: 5\n"
      ]
     },
     "metadata": {},
     "output_type": "display_data"
    }
   ],
   "source": [
    "LogFit<- glm(Approved~AgeNorm+DebtLog+YearsEmployedLog+CreditScoreLog+IncomeLog, data=Train,family=binomial)\n",
    "summary(LogFit)"
   ]
  },
  {
   "cell_type": "code",
   "execution_count": 84,
   "metadata": {
    "collapsed": true
   },
   "outputs": [],
   "source": [
    "#Logistic Regression\n",
    "LogPred<- predict(LogFit,newdata=Train, type=\"response\")\n",
    "cm1 = table(Train$Approved, LogPred>0.5)\n",
    "\n",
    " n = sum(cm1) # number of instances\n",
    " nc = nrow(cm1) # number of classes\n",
    " diag = diag(cm1) # number of correctly classified instances per class \n",
    " rowsums = apply(cm1, 1, sum) # number of instances per class\n",
    " colsums = apply(cm1, 2, sum) # number of predictions per class\n",
    " p = rowsums / n # distribution of instances over the actual classes\n",
    " q = colsums / n # distribution of instances over the predicted classes"
   ]
  },
  {
   "cell_type": "markdown",
   "metadata": {},
   "source": [
    "Accuracy of Logistic Regression Model"
   ]
  },
  {
   "cell_type": "code",
   "execution_count": 85,
   "metadata": {},
   "outputs": [
    {
     "data": {
      "text/html": [
       "0.775628626692456"
      ],
      "text/latex": [
       "0.775628626692456"
      ],
      "text/markdown": [
       "0.775628626692456"
      ],
      "text/plain": [
       "[1] 0.7756286"
      ]
     },
     "metadata": {},
     "output_type": "display_data"
    }
   ],
   "source": [
    "accuracy = sum(diag) / n \n",
    "accuracy\n"
   ]
  },
  {
   "cell_type": "code",
   "execution_count": 81,
   "metadata": {},
   "outputs": [
    {
     "data": {
      "text/plain": [
       "\n",
       "Call:\n",
       "glm(formula = Approved ~ YearsEmployedLog + CreditScoreLog + \n",
       "    IncomeLog, family = binomial, data = Train)\n",
       "\n",
       "Deviance Residuals: \n",
       "    Min       1Q   Median       3Q      Max  \n",
       "-2.4209  -0.7462  -0.4697   0.6973   2.1612  \n",
       "\n",
       "Coefficients:\n",
       "                 Estimate Std. Error z value Pr(>|z|)    \n",
       "(Intercept)       -0.2070     0.1113  -1.861 0.062767 .  \n",
       "YearsEmployedLog   0.7872     0.1193   6.598 4.16e-11 ***\n",
       "CreditScoreLog     0.9910     0.1323   7.490 6.90e-14 ***\n",
       "IncomeLog          0.4522     0.1185   3.817 0.000135 ***\n",
       "---\n",
       "Signif. codes:  0 ‘***’ 0.001 ‘**’ 0.01 ‘*’ 0.05 ‘.’ 0.1 ‘ ’ 1\n",
       "\n",
       "(Dispersion parameter for binomial family taken to be 1)\n",
       "\n",
       "    Null deviance: 710.42  on 516  degrees of freedom\n",
       "Residual deviance: 503.59  on 513  degrees of freedom\n",
       "AIC: 511.59\n",
       "\n",
       "Number of Fisher Scoring iterations: 5\n"
      ]
     },
     "metadata": {},
     "output_type": "display_data"
    }
   ],
   "source": [
    "LogFit2<- glm(Approved~YearsEmployedLog+CreditScoreLog+IncomeLog, data=Train,family=binomial)\n",
    "summary(LogFit2)\n"
   ]
  },
  {
   "cell_type": "code",
   "execution_count": 82,
   "metadata": {},
   "outputs": [
    {
     "data": {
      "text/plain": [
       "   \n",
       "    FALSE TRUE\n",
       "  0   244   43\n",
       "  1    78  152"
      ]
     },
     "metadata": {},
     "output_type": "display_data"
    }
   ],
   "source": [
    "LogPred2<- predict(LogFit2,newdata=Train, type=\"response\")\n",
    "table(Train$Approved, LogPred2>0.5)"
   ]
  },
  {
   "cell_type": "code",
   "execution_count": 83,
   "metadata": {},
   "outputs": [
    {
     "data": {
      "text/plain": [
       "   \n",
       "    FALSE TRUE\n",
       "  0    83   13\n",
       "  1    29   48"
      ]
     },
     "metadata": {},
     "output_type": "display_data"
    }
   ],
   "source": [
    "# Apply the model to the test set\n",
    "LogPred3<-predict(LogFit2, newdata=Test,type=\"response\")\n",
    "    \n",
    "# Create a confusion Matrix\n",
    "table(Test$Approved,LogPred3>0.5)"
   ]
  },
  {
   "cell_type": "code",
   "execution_count": null,
   "metadata": {
    "collapsed": true
   },
   "outputs": [],
   "source": []
  }
 ],
 "metadata": {
  "kernelspec": {
   "display_name": "R",
   "language": "R",
   "name": "ir"
  },
  "language_info": {
   "codemirror_mode": "r",
   "file_extension": ".r",
   "mimetype": "text/x-r-source",
   "name": "R",
   "pygments_lexer": "r",
   "version": "3.2.3"
  }
 },
 "nbformat": 4,
 "nbformat_minor": 2
}
